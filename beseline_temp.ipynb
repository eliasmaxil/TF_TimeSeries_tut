{
 "cells": [
  {
   "cell_type": "code",
   "execution_count": 1,
   "metadata": {},
   "outputs": [],
   "source": [
    "import numpy as np\n",
    "import pandas as pd\n",
    "import tensorflow as tf\n",
    "\n",
    "import sys, os\n",
    "sys.path.insert(0, os.path.abspath('./model_utils'))\n",
    "from window_generator import WindowGenerator"
   ]
  },
  {
   "cell_type": "code",
   "execution_count": 2,
   "metadata": {},
   "outputs": [],
   "source": [
    "n =  13\n",
    "rng = np.random.default_rng(seed=0)\n",
    "df = pd.DataFrame(np.around(rng.random((n, 4)), 1), columns=['a','b','c','y'])\n",
    "# df.iloc[1:2,:] = np.nan\n",
    "# df.iloc[7:9,:] = np.nan\n",
    "# print(df)"
   ]
  },
  {
   "cell_type": "code",
   "execution_count": 3,
   "metadata": {},
   "outputs": [],
   "source": [
    "# Window generator\n",
    "OUT_STEPS = 2  \n",
    "input_width = 2   # Take two rows (or time steps) of all columns as input\n",
    "label_width = OUT_STEPS  # Size of the prediction (output)\n",
    "shift = OUT_STEPS  # Time (or rows) offset between input and output\n",
    "batch_size = 1\n",
    "label_column='y'\n",
    "# label_index = df.columns.get_loc(label_column)\n",
    "label_index = None\n",
    "# Single step window\n",
    "my_window = WindowGenerator(\n",
    "                input_width=input_width,\n",
    "                label_width=label_width,\n",
    "                shift=shift,\n",
    "                batch_size=batch_size,\n",
    "                train_df=df, val_df=df, test_df=df,\n",
    "                label_columns=[label_column],\n",
    "                use_label_columns=True, shuffle=False\n",
    "                )"
   ]
  },
  {
   "cell_type": "markdown",
   "metadata": {},
   "source": [
    "https://www.tensorflow.org/api_docs/python/tf/keras/Model  \n",
    "https://www.tensorflow.org/api_docs/python/tf/keras/layers/Average   \n"
   ]
  },
  {
   "cell_type": "code",
   "execution_count": 4,
   "metadata": {},
   "outputs": [],
   "source": [
    "class MyBaseline(tf.keras.Model):\n",
    "    \"\"\"\n",
    "    Calculates the mean value. Returns it as the target.\n",
    "    https://www.tensorflow.org/tutorials/structured_data/time_series#baselines\n",
    "    \"\"\"\n",
    "    def __init__(self, label_index=None):\n",
    "        \"\"\" \n",
    "        label_index: an int with the number of the column to be evaluated\n",
    "        OUT_STEPS: Number of times the last value (label_width) is repeated\n",
    "        \"\"\"\n",
    "        super().__init__()\n",
    "        self.label_index = label_index\n",
    "        # self.average = tf.keras.layers.Average()\n",
    "\n",
    "    def call(self, inputs): # inputs.shape: (None, 2, 4) <class 'tensorflow.python.framework.ops.Tensor'>\n",
    "        \"\"\"\n",
    "        Calls the model on new inputs.\n",
    "        Returns the outputs as tensors.\n",
    "        https://www.tensorflow.org/api_docs/python/tf/keras/Model#call\n",
    "        \"\"\"\n",
    "\n",
    "        out_steps = inputs.shape[1]\n",
    "        averages = tf.reduce_mean(inputs, axis=1)\n",
    "        averages = averages[:,tf.newaxis,:]\n",
    "        result = tf.tile(averages, [1, out_steps, 1])\n",
    "\n",
    "        if self.label_index is None:\n",
    "            print(f'result: {result}')\n",
    "            print(f'result.shape: {result.shape}')\n",
    "            return result\n",
    "        result = result[:, :, self.label_index]\n",
    "        return result[:, :, tf.newaxis]\n",
    "\n",
    "\n"
   ]
  },
  {
   "cell_type": "code",
   "execution_count": 5,
   "metadata": {},
   "outputs": [
    {
     "name": "stdout",
     "output_type": "stream",
     "text": [
      "result: Tensor(\"my_baseline/Tile:0\", shape=(None, 2, 4), dtype=float32)\n",
      "result.shape: (None, 2, 4)\n",
      "[0.1264375001192093, 0.29499998688697815]\n"
     ]
    }
   ],
   "source": [
    "# Baseline from WindowGenerator\n",
    "baseline_model = MyBaseline()\n",
    "# baseline_multi = RepeatBaseline(label_index=label_index)\n",
    "baseline_model.compile(loss=tf.keras.losses.MeanSquaredError(),\n",
    "                metrics=[tf.keras.metrics.MeanAbsoluteError()]) # MAE\n",
    "# Evaluation from WindowGenerator\n",
    "dataset = my_window.val\n",
    "evaluation = baseline_model.evaluate(dataset, verbose=0)\n",
    "print(evaluation)"
   ]
  },
  {
   "cell_type": "code",
   "execution_count": 6,
   "metadata": {},
   "outputs": [
    {
     "name": "stdout",
     "output_type": "stream",
     "text": [
      "input: [[[0.6 0.3 0.  0. ]\n",
      "  [0.8 0.9 0.6 0.7]]] |\ttarget: [[[0. ]\n",
      "  [0.2]]]\n",
      "input: [[[0.8 0.9 0.6 0.7]\n",
      "  [0.5 0.9 0.8 0. ]]] |\ttarget: [[[0.2]\n",
      "  [0.4]]]\n",
      "input: [[[0.5 0.9 0.8 0. ]\n",
      "  [0.9 0.  0.7 0.2]]] |\ttarget: [[[0.4]\n",
      "  [0.6]]]\n",
      "input.shape: (1, 2, 4)\n",
      "target.shape: (1, 2, 1)\n"
     ]
    }
   ],
   "source": [
    "for batch in dataset.take(3):\n",
    "    inputs, targets = batch\n",
    "    print(f'input: {inputs} |\\ttarget: {targets}')\n",
    "    # print(f'target: {targets}')\n",
    "print(f'input.shape: {inputs.shape}')\n",
    "print(f'target.shape: {targets.shape}')"
   ]
  },
  {
   "cell_type": "code",
   "execution_count": 7,
   "metadata": {},
   "outputs": [
    {
     "name": "stdout",
     "output_type": "stream",
     "text": [
      "result: Tensor(\"my_baseline/Tile:0\", shape=(None, 2, 4), dtype=float32)\n",
      "result.shape: (None, 2, 4)\n",
      "The MAE: 0.29499998688697815\n",
      "[[[0.70000005 0.6        0.3        0.35      ]\n",
      "  [0.70000005 0.6        0.3        0.35      ]]\n",
      "\n",
      " [[0.65       0.9        0.70000005 0.35      ]\n",
      "  [0.65       0.9        0.70000005 0.35      ]]\n",
      "\n",
      " [[0.7        0.45       0.75       0.1       ]\n",
      "  [0.7        0.45       0.75       0.1       ]]\n",
      "\n",
      " [[0.9        0.25       0.5        0.3       ]\n",
      "  [0.9        0.25       0.5        0.3       ]]\n",
      "\n",
      " [[0.45       0.3        0.5        0.5       ]\n",
      "  [0.45       0.3        0.5        0.5       ]]\n",
      "\n",
      " [[0.3        0.25       0.85       0.8       ]\n",
      "  [0.3        0.25       0.85       0.8       ]]\n",
      "\n",
      " [[0.65       0.55       0.85       0.7       ]\n",
      "  [0.65       0.55       0.85       0.7       ]]\n",
      "\n",
      " [[0.4        0.7        0.6        0.35000002]\n",
      "  [0.4        0.7        0.6        0.35000002]]\n",
      "\n",
      " [[0.3        0.79999995 0.7        0.35000002]\n",
      "  [0.3        0.79999995 0.7        0.35000002]]\n",
      "\n",
      " [[0.55       0.6        0.75       0.35000002]\n",
      "  [0.55       0.6        0.75       0.35000002]]]\n"
     ]
    }
   ],
   "source": [
    "def naive_mae_multi(model , dataset_, label_index_):\n",
    "    targets = []\n",
    "    for batch_ in dataset_:\n",
    "        _, target_ = batch_\n",
    "        targets.append(target_.numpy())\n",
    "    targets = np.array(targets)   \n",
    "    predictions = model.predict(dataset_, verbose = 0)\n",
    "    targets = targets.reshape([targets.shape[0], targets.shape[2], targets.shape[1]])\n",
    "    mae = np.abs(predictions - targets).mean()\n",
    "    return mae, predictions\n",
    "    \n",
    "mae, predictions = naive_mae_multi(baseline_model, dataset, label_index)\n",
    "print(f'The MAE: {mae}')\n",
    "print(predictions)"
   ]
  },
  {
   "cell_type": "code",
   "execution_count": 8,
   "metadata": {},
   "outputs": [],
   "source": [
    "# >> predictions \n",
    "# >> array([[[0.7, 0.6, 0.3, 0.35],\n",
    "    #         [0.7, 0.6, 0.3, 0.35]],\n",
    "\n",
    "    #        [[0.65, 0.9, 0.7, 0.35],\n",
    "    #         [0.65, 0.9, 0.7, 0.35]],\n",
    "\n",
    "    # ...  More data here           ]]"
   ]
  }
 ],
 "metadata": {
  "kernelspec": {
   "display_name": "slim",
   "language": "python",
   "name": "python3"
  },
  "language_info": {
   "codemirror_mode": {
    "name": "ipython",
    "version": 3
   },
   "file_extension": ".py",
   "mimetype": "text/x-python",
   "name": "python",
   "nbconvert_exporter": "python",
   "pygments_lexer": "ipython3",
   "version": "3.9.17"
  }
 },
 "nbformat": 4,
 "nbformat_minor": 2
}
